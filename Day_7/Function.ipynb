{
 "cells": [
  {
   "cell_type": "code",
   "execution_count": 1,
   "id": "8e69ebe2",
   "metadata": {},
   "outputs": [
    {
     "name": "stdout",
     "output_type": "stream",
     "text": [
      "1 2\n",
      "(3, 4, 5)\n",
      "USA\n",
      "{'name': 'Rohan', 'age': 25}\n"
     ]
    }
   ],
   "source": [
    "def demo(a, b, *args, country=\"India\", **kwargs):\n",
    "    print(a, b)\n",
    "    print(args)\n",
    "    print(country)\n",
    "    print(kwargs)\n",
    "\n",
    "demo(1, 2, 3, 4, 5, country=\"USA\", name=\"Rohan\", age=25)"
   ]
  },
  {
   "cell_type": "code",
   "execution_count": 2,
   "id": "4e2a0b78",
   "metadata": {},
   "outputs": [
    {
     "name": "stdout",
     "output_type": "stream",
     "text": [
      "Rohan--->JadhaV\n"
     ]
    }
   ],
   "source": [
    "def abc(a,b):\n",
    "    print(f\"{a}--->{b}\")\n",
    "\n",
    "\n",
    "abc(\"Rohan\",\"JadhaV\")"
   ]
  },
  {
   "cell_type": "code",
   "execution_count": 3,
   "id": "387ed1f1",
   "metadata": {},
   "outputs": [
    {
     "name": "stdout",
     "output_type": "stream",
     "text": [
      "Rohan---->Gamer\n"
     ]
    }
   ],
   "source": [
    "def fgh(a,b=\"Gamer\"):\n",
    "    print(f\"{a}---->{b}\")\n",
    "\n",
    "fgh(\"Rohan\")"
   ]
  },
  {
   "cell_type": "code",
   "execution_count": 4,
   "id": "f1544b56",
   "metadata": {},
   "outputs": [
    {
     "name": "stdout",
     "output_type": "stream",
     "text": [
      "om---->dancer\n"
     ]
    }
   ],
   "source": [
    "fgh(\"om\",\"dancer\")"
   ]
  },
  {
   "cell_type": "code",
   "execution_count": 7,
   "id": "b76b1ea2",
   "metadata": {},
   "outputs": [
    {
     "name": "stdout",
     "output_type": "stream",
     "text": [
      "Rohan---->jadhav\n"
     ]
    }
   ],
   "source": [
    "def hij(a=\"Rohan\",b=\"jadhav\"):\n",
    "    print(f\"{a}---->{b}\")\n",
    "\n",
    "hij()"
   ]
  },
  {
   "cell_type": "code",
   "execution_count": 8,
   "id": "9bea0249",
   "metadata": {},
   "outputs": [],
   "source": [
    "def klm(*num):\n",
    "    b=sum(num)\n",
    "    return b"
   ]
  },
  {
   "cell_type": "code",
   "execution_count": 9,
   "id": "a463d41c",
   "metadata": {},
   "outputs": [],
   "source": [
    "c = klm(1,3,4,5,6,7)"
   ]
  },
  {
   "cell_type": "code",
   "execution_count": 11,
   "id": "d6eee99e",
   "metadata": {},
   "outputs": [
    {
     "name": "stdout",
     "output_type": "stream",
     "text": [
      "26\n"
     ]
    }
   ],
   "source": [
    "print(c)"
   ]
  },
  {
   "cell_type": "code",
   "execution_count": 15,
   "id": "6c39c2d7",
   "metadata": {},
   "outputs": [],
   "source": [
    "def nop(**dict):\n",
    "    print(dict)"
   ]
  },
  {
   "cell_type": "code",
   "execution_count": 17,
   "id": "cf37cb3a",
   "metadata": {},
   "outputs": [
    {
     "name": "stdout",
     "output_type": "stream",
     "text": [
      "{'dd': 'a', 'e': 'b', 'f': 26, 'g': 'd'}\n"
     ]
    }
   ],
   "source": [
    "nop(dd=\"a\",e=\"b\",f=c,g=\"d\")"
   ]
  },
  {
   "cell_type": "code",
   "execution_count": null,
   "id": "6de492c4",
   "metadata": {},
   "outputs": [],
   "source": []
  }
 ],
 "metadata": {
  "kernelspec": {
   "display_name": ".venv",
   "language": "python",
   "name": "python3"
  },
  "language_info": {
   "codemirror_mode": {
    "name": "ipython",
    "version": 3
   },
   "file_extension": ".py",
   "mimetype": "text/x-python",
   "name": "python",
   "nbconvert_exporter": "python",
   "pygments_lexer": "ipython3",
   "version": "3.12.0"
  }
 },
 "nbformat": 4,
 "nbformat_minor": 5
}
