{
 "cells": [
  {
   "cell_type": "markdown",
   "id": "31623e40",
   "metadata": {},
   "source": [
    "STRING:"
   ]
  },
  {
   "cell_type": "code",
   "execution_count": 16,
   "id": "2a828db8",
   "metadata": {},
   "outputs": [],
   "source": [
    "S1='Rohan'"
   ]
  },
  {
   "cell_type": "code",
   "execution_count": 17,
   "id": "9704b292",
   "metadata": {},
   "outputs": [
    {
     "data": {
      "text/plain": [
       "'rohan'"
      ]
     },
     "execution_count": 17,
     "metadata": {},
     "output_type": "execute_result"
    }
   ],
   "source": [
    "S1.lower()"
   ]
  },
  {
   "cell_type": "code",
   "execution_count": 19,
   "id": "92b07a02",
   "metadata": {},
   "outputs": [
    {
     "data": {
      "text/plain": [
       "'ROHAN'"
      ]
     },
     "execution_count": 19,
     "metadata": {},
     "output_type": "execute_result"
    }
   ],
   "source": [
    "S1.upper()"
   ]
  },
  {
   "cell_type": "code",
   "execution_count": 7,
   "id": "4dd4c778",
   "metadata": {},
   "outputs": [
    {
     "data": {
      "text/plain": [
       "'Rohan'"
      ]
     },
     "execution_count": 7,
     "metadata": {},
     "output_type": "execute_result"
    }
   ],
   "source": [
    "S1.capitalize()"
   ]
  },
  {
   "cell_type": "code",
   "execution_count": 15,
   "id": "6a5e5a81",
   "metadata": {},
   "outputs": [
    {
     "data": {
      "text/plain": [
       "'rohan'"
      ]
     },
     "execution_count": 15,
     "metadata": {},
     "output_type": "execute_result"
    }
   ],
   "source": [
    "S1.casefold()"
   ]
  },
  {
   "cell_type": "code",
   "execution_count": 11,
   "id": "3c30e540",
   "metadata": {},
   "outputs": [
    {
     "data": {
      "text/plain": [
       "'Rohan'"
      ]
     },
     "execution_count": 11,
     "metadata": {},
     "output_type": "execute_result"
    }
   ],
   "source": [
    "S1.replace('r','R')\n"
   ]
  },
  {
   "cell_type": "code",
   "execution_count": 20,
   "id": "e7c4bcca",
   "metadata": {},
   "outputs": [
    {
     "data": {
      "text/plain": [
       "'Rohan'"
      ]
     },
     "execution_count": 20,
     "metadata": {},
     "output_type": "execute_result"
    }
   ],
   "source": [
    "S1"
   ]
  },
  {
   "cell_type": "code",
   "execution_count": 22,
   "id": "3161514d",
   "metadata": {},
   "outputs": [
    {
     "data": {
      "text/plain": [
       "'Rohan'"
      ]
     },
     "execution_count": 22,
     "metadata": {},
     "output_type": "execute_result"
    }
   ],
   "source": [
    "S1.strip()"
   ]
  },
  {
   "cell_type": "code",
   "execution_count": 23,
   "id": "683312db",
   "metadata": {},
   "outputs": [],
   "source": [
    "s2='rohan jadhav'"
   ]
  },
  {
   "cell_type": "code",
   "execution_count": 26,
   "id": "0b2a9760",
   "metadata": {},
   "outputs": [
    {
     "data": {
      "text/plain": [
       "'rohan jadhav'"
      ]
     },
     "execution_count": 26,
     "metadata": {},
     "output_type": "execute_result"
    }
   ],
   "source": [
    "s2"
   ]
  },
  {
   "cell_type": "code",
   "execution_count": 29,
   "id": "c63dc500",
   "metadata": {},
   "outputs": [
    {
     "data": {
      "text/plain": [
       "3"
      ]
     },
     "execution_count": 29,
     "metadata": {},
     "output_type": "execute_result"
    }
   ],
   "source": [
    "\n",
    "S1.find('a')"
   ]
  },
  {
   "cell_type": "code",
   "execution_count": 32,
   "id": "ae1f962a",
   "metadata": {},
   "outputs": [
    {
     "data": {
      "text/plain": [
       "1"
      ]
     },
     "execution_count": 32,
     "metadata": {},
     "output_type": "execute_result"
    }
   ],
   "source": [
    "S1.count('a')"
   ]
  },
  {
   "cell_type": "code",
   "execution_count": 34,
   "id": "f08e00c3",
   "metadata": {},
   "outputs": [
    {
     "data": {
      "text/plain": [
       "['rohan', 'jadhav']"
      ]
     },
     "execution_count": 34,
     "metadata": {},
     "output_type": "execute_result"
    }
   ],
   "source": [
    "s2.split()"
   ]
  },
  {
   "cell_type": "code",
   "execution_count": 35,
   "id": "b3c0d0a7",
   "metadata": {},
   "outputs": [
    {
     "data": {
      "text/plain": [
       "'rohan jadhav'"
      ]
     },
     "execution_count": 35,
     "metadata": {},
     "output_type": "execute_result"
    }
   ],
   "source": [
    "s2[0:12]"
   ]
  },
  {
   "cell_type": "code",
   "execution_count": 37,
   "id": "055135a7",
   "metadata": {},
   "outputs": [
    {
     "data": {
      "text/plain": [
       "'rohan jadhav'"
      ]
     },
     "execution_count": 37,
     "metadata": {},
     "output_type": "execute_result"
    }
   ],
   "source": [
    "s2[0:12]"
   ]
  },
  {
   "cell_type": "code",
   "execution_count": 38,
   "id": "6d004f74",
   "metadata": {},
   "outputs": [
    {
     "data": {
      "text/plain": [
       "'rhnjda'"
      ]
     },
     "execution_count": 38,
     "metadata": {},
     "output_type": "execute_result"
    }
   ],
   "source": [
    "s2[0:12:2]"
   ]
  },
  {
   "cell_type": "code",
   "execution_count": 39,
   "id": "40c240f7",
   "metadata": {},
   "outputs": [
    {
     "data": {
      "text/plain": [
       "'vahdaj nahor'"
      ]
     },
     "execution_count": 39,
     "metadata": {},
     "output_type": "execute_result"
    }
   ],
   "source": [
    "s2[::-1]"
   ]
  },
  {
   "cell_type": "markdown",
   "id": "fea5abd0",
   "metadata": {},
   "source": [
    "Tuple"
   ]
  },
  {
   "cell_type": "code",
   "execution_count": 40,
   "id": "734b8fdb",
   "metadata": {},
   "outputs": [],
   "source": [
    "t1=(1,2,'rohan',[1,2,3,4,5],(1,2,3,4),'rohan',{'age':25})"
   ]
  },
  {
   "cell_type": "code",
   "execution_count": 41,
   "id": "a6841ce5",
   "metadata": {},
   "outputs": [
    {
     "data": {
      "text/plain": [
       "1"
      ]
     },
     "execution_count": 41,
     "metadata": {},
     "output_type": "execute_result"
    }
   ],
   "source": [
    "t1.count(1)"
   ]
  },
  {
   "cell_type": "code",
   "execution_count": 44,
   "id": "93cf14a0",
   "metadata": {},
   "outputs": [
    {
     "data": {
      "text/plain": [
       "1"
      ]
     },
     "execution_count": 44,
     "metadata": {},
     "output_type": "execute_result"
    }
   ],
   "source": [
    "t1.index(2)"
   ]
  },
  {
   "cell_type": "code",
   "execution_count": 45,
   "id": "a5a065b9",
   "metadata": {},
   "outputs": [
    {
     "data": {
      "text/plain": [
       "(1, 2, 'rohan')"
      ]
     },
     "execution_count": 45,
     "metadata": {},
     "output_type": "execute_result"
    }
   ],
   "source": [
    "t1[0:3]"
   ]
  },
  {
   "cell_type": "code",
   "execution_count": 46,
   "id": "082771b1",
   "metadata": {},
   "outputs": [
    {
     "data": {
      "text/plain": [
       "(1, [1, 2, 3, 4, 5], {'age': 25})"
      ]
     },
     "execution_count": 46,
     "metadata": {},
     "output_type": "execute_result"
    }
   ],
   "source": [
    "t1[0:8:3]"
   ]
  },
  {
   "cell_type": "markdown",
   "id": "2adf887f",
   "metadata": {},
   "source": [
    "List"
   ]
  },
  {
   "cell_type": "code",
   "execution_count": 49,
   "id": "ce9f89f8",
   "metadata": {},
   "outputs": [],
   "source": [
    "l1=[1,2,3,4,5,6,7,8,9,9,9,9,0]"
   ]
  },
  {
   "cell_type": "code",
   "execution_count": 50,
   "id": "161a07fa",
   "metadata": {},
   "outputs": [],
   "source": [
    "l1.insert(1,1)"
   ]
  },
  {
   "cell_type": "code",
   "execution_count": 51,
   "id": "4e4a2d23",
   "metadata": {},
   "outputs": [
    {
     "data": {
      "text/plain": [
       "[1, 1, 2, 3, 4, 5, 6, 7, 8, 9, 9, 9, 9, 0]"
      ]
     },
     "execution_count": 51,
     "metadata": {},
     "output_type": "execute_result"
    }
   ],
   "source": [
    "l1"
   ]
  },
  {
   "cell_type": "code",
   "execution_count": 52,
   "id": "e970ffd1",
   "metadata": {},
   "outputs": [
    {
     "data": {
      "text/plain": [
       "4"
      ]
     },
     "execution_count": 52,
     "metadata": {},
     "output_type": "execute_result"
    }
   ],
   "source": [
    "l1.count(9)"
   ]
  },
  {
   "cell_type": "code",
   "execution_count": 53,
   "id": "8a587be4",
   "metadata": {},
   "outputs": [],
   "source": [
    "l1.reverse()"
   ]
  },
  {
   "cell_type": "code",
   "execution_count": 54,
   "id": "802d10d8",
   "metadata": {},
   "outputs": [
    {
     "data": {
      "text/plain": [
       "[0, 9, 9, 9, 9, 8, 7, 6, 5, 4, 3, 2, 1, 1]"
      ]
     },
     "execution_count": 54,
     "metadata": {},
     "output_type": "execute_result"
    }
   ],
   "source": [
    "l1"
   ]
  },
  {
   "cell_type": "code",
   "execution_count": 55,
   "id": "2a2e715e",
   "metadata": {},
   "outputs": [],
   "source": [
    "l1.append(12)"
   ]
  },
  {
   "cell_type": "code",
   "execution_count": 56,
   "id": "1389234b",
   "metadata": {},
   "outputs": [
    {
     "data": {
      "text/plain": [
       "[0, 9, 9, 9, 9, 8, 7, 6, 5, 4, 3, 2, 1, 1, 12]"
      ]
     },
     "execution_count": 56,
     "metadata": {},
     "output_type": "execute_result"
    }
   ],
   "source": [
    "l1"
   ]
  },
  {
   "cell_type": "code",
   "execution_count": 57,
   "id": "8f034a4e",
   "metadata": {},
   "outputs": [],
   "source": [
    "l1.remove(9)"
   ]
  },
  {
   "cell_type": "code",
   "execution_count": 58,
   "id": "fb396119",
   "metadata": {},
   "outputs": [
    {
     "data": {
      "text/plain": [
       "[0, 9, 9, 9, 8, 7, 6, 5, 4, 3, 2, 1, 1, 12]"
      ]
     },
     "execution_count": 58,
     "metadata": {},
     "output_type": "execute_result"
    }
   ],
   "source": [
    "l1"
   ]
  },
  {
   "cell_type": "code",
   "execution_count": 59,
   "id": "c5d577c4",
   "metadata": {},
   "outputs": [
    {
     "data": {
      "text/plain": [
       "12"
      ]
     },
     "execution_count": 59,
     "metadata": {},
     "output_type": "execute_result"
    }
   ],
   "source": [
    "l1.pop()"
   ]
  },
  {
   "cell_type": "code",
   "execution_count": 60,
   "id": "53d08656",
   "metadata": {},
   "outputs": [],
   "source": [
    "l1.sort()"
   ]
  },
  {
   "cell_type": "code",
   "execution_count": 61,
   "id": "f3243203",
   "metadata": {},
   "outputs": [
    {
     "data": {
      "text/plain": [
       "[0, 1, 1, 2, 3, 4, 5, 6, 7, 8, 9, 9, 9]"
      ]
     },
     "execution_count": 61,
     "metadata": {},
     "output_type": "execute_result"
    }
   ],
   "source": [
    "l1"
   ]
  },
  {
   "cell_type": "code",
   "execution_count": 64,
   "id": "848fc7c3",
   "metadata": {},
   "outputs": [],
   "source": [
    "l2= l1.copy()"
   ]
  },
  {
   "cell_type": "code",
   "execution_count": 66,
   "id": "77409785",
   "metadata": {},
   "outputs": [
    {
     "data": {
      "text/plain": [
       "[0, 1, 1, 2, 3, 4, 5, 6, 7, 8, 9, 9, 9]"
      ]
     },
     "execution_count": 66,
     "metadata": {},
     "output_type": "execute_result"
    }
   ],
   "source": [
    "l2"
   ]
  },
  {
   "cell_type": "code",
   "execution_count": 69,
   "id": "44213436",
   "metadata": {},
   "outputs": [
    {
     "data": {
      "text/plain": [
       "[0, 1, 1, 2, 3, 4, 5, 6, 7, 8]"
      ]
     },
     "execution_count": 69,
     "metadata": {},
     "output_type": "execute_result"
    }
   ],
   "source": [
    "l1[0:10]"
   ]
  },
  {
   "cell_type": "markdown",
   "id": "f4e5e07a",
   "metadata": {},
   "source": [
    "SET"
   ]
  },
  {
   "cell_type": "code",
   "execution_count": 72,
   "id": "230d7200",
   "metadata": {},
   "outputs": [],
   "source": [
    "s1={1,2,3,4,5,6,6,7,7,8,8,8,8,8,8,9,9,0}"
   ]
  },
  {
   "cell_type": "code",
   "execution_count": 73,
   "id": "6c366d8a",
   "metadata": {},
   "outputs": [
    {
     "data": {
      "text/plain": [
       "{0, 1, 2, 3, 4, 5, 6, 7, 8, 9}"
      ]
     },
     "execution_count": 73,
     "metadata": {},
     "output_type": "execute_result"
    }
   ],
   "source": [
    "s1"
   ]
  },
  {
   "cell_type": "code",
   "execution_count": 74,
   "id": "15317150",
   "metadata": {},
   "outputs": [],
   "source": [
    "s1.add(12)"
   ]
  },
  {
   "cell_type": "code",
   "execution_count": 75,
   "id": "1de99edf",
   "metadata": {},
   "outputs": [
    {
     "data": {
      "text/plain": [
       "{0, 1, 2, 3, 4, 5, 6, 7, 8, 9, 12}"
      ]
     },
     "execution_count": 75,
     "metadata": {},
     "output_type": "execute_result"
    }
   ],
   "source": [
    "s1"
   ]
  },
  {
   "cell_type": "code",
   "execution_count": 78,
   "id": "8aa489d1",
   "metadata": {},
   "outputs": [],
   "source": [
    "s1.update([55,44])"
   ]
  },
  {
   "cell_type": "code",
   "execution_count": 79,
   "id": "9ed2a1fe",
   "metadata": {},
   "outputs": [
    {
     "data": {
      "text/plain": [
       "{0, 1, 2, 3, 4, 5, 6, 7, 8, 9, 12, 44, 55}"
      ]
     },
     "execution_count": 79,
     "metadata": {},
     "output_type": "execute_result"
    }
   ],
   "source": [
    "s1"
   ]
  },
  {
   "cell_type": "code",
   "execution_count": 81,
   "id": "f7ad9223",
   "metadata": {},
   "outputs": [
    {
     "data": {
      "text/plain": [
       "0"
      ]
     },
     "execution_count": 81,
     "metadata": {},
     "output_type": "execute_result"
    }
   ],
   "source": [
    "s1.pop()"
   ]
  },
  {
   "cell_type": "code",
   "execution_count": 82,
   "id": "90838ea3",
   "metadata": {},
   "outputs": [],
   "source": [
    "s1.remove(44)"
   ]
  },
  {
   "cell_type": "code",
   "execution_count": 83,
   "id": "a88a52d3",
   "metadata": {},
   "outputs": [
    {
     "data": {
      "text/plain": [
       "{1, 2, 3, 4, 5, 6, 7, 8, 9, 12, 55}"
      ]
     },
     "execution_count": 83,
     "metadata": {},
     "output_type": "execute_result"
    }
   ],
   "source": [
    "s1"
   ]
  },
  {
   "cell_type": "code",
   "execution_count": 84,
   "id": "7728a02e",
   "metadata": {},
   "outputs": [],
   "source": [
    "s1.discard(44)"
   ]
  },
  {
   "cell_type": "code",
   "execution_count": 85,
   "id": "8a1a05d3",
   "metadata": {},
   "outputs": [
    {
     "data": {
      "text/plain": [
       "{1, 2, 3, 4, 5, 6, 7, 8, 9, 12, 55}"
      ]
     },
     "execution_count": 85,
     "metadata": {},
     "output_type": "execute_result"
    }
   ],
   "source": [
    "s1"
   ]
  },
  {
   "cell_type": "code",
   "execution_count": 86,
   "id": "f4ff1279",
   "metadata": {},
   "outputs": [],
   "source": [
    "s2={1,2,3}"
   ]
  },
  {
   "cell_type": "code",
   "execution_count": 87,
   "id": "f9af973f",
   "metadata": {},
   "outputs": [],
   "source": [
    "s2.clear()"
   ]
  },
  {
   "cell_type": "code",
   "execution_count": 89,
   "id": "0c3f90be",
   "metadata": {},
   "outputs": [
    {
     "data": {
      "text/plain": [
       "set()"
      ]
     },
     "execution_count": 89,
     "metadata": {},
     "output_type": "execute_result"
    }
   ],
   "source": [
    "s2"
   ]
  },
  {
   "cell_type": "code",
   "execution_count": 90,
   "id": "91e012b4",
   "metadata": {},
   "outputs": [],
   "source": [
    "ss2=s1.copy()"
   ]
  },
  {
   "cell_type": "code",
   "execution_count": 91,
   "id": "4a928bcf",
   "metadata": {},
   "outputs": [
    {
     "data": {
      "text/plain": [
       "{1, 2, 3, 4, 5, 6, 7, 8, 9, 12, 55}"
      ]
     },
     "execution_count": 91,
     "metadata": {},
     "output_type": "execute_result"
    }
   ],
   "source": [
    "ss2"
   ]
  },
  {
   "cell_type": "code",
   "execution_count": 93,
   "id": "f1ca6db6",
   "metadata": {},
   "outputs": [],
   "source": [
    "s2={44,55,1,2,3,4,5,6,7,8,9,12,56,53,46}"
   ]
  },
  {
   "cell_type": "code",
   "execution_count": 96,
   "id": "cc31adc9",
   "metadata": {},
   "outputs": [
    {
     "data": {
      "text/plain": [
       "{1, 2, 3, 4, 5, 6, 7, 8, 9, 12, 55}"
      ]
     },
     "execution_count": 96,
     "metadata": {},
     "output_type": "execute_result"
    }
   ],
   "source": [
    "s1"
   ]
  },
  {
   "cell_type": "code",
   "execution_count": 97,
   "id": "88478618",
   "metadata": {},
   "outputs": [
    {
     "data": {
      "text/plain": [
       "{1, 2, 3, 4, 5, 6, 7, 8, 9, 12, 44, 46, 53, 55, 56}"
      ]
     },
     "execution_count": 97,
     "metadata": {},
     "output_type": "execute_result"
    }
   ],
   "source": [
    "s2"
   ]
  },
  {
   "cell_type": "code",
   "execution_count": 94,
   "id": "02ef9905",
   "metadata": {},
   "outputs": [
    {
     "data": {
      "text/plain": [
       "{1, 2, 3, 4, 5, 6, 7, 8, 9, 12, 44, 46, 53, 55, 56}"
      ]
     },
     "execution_count": 94,
     "metadata": {},
     "output_type": "execute_result"
    }
   ],
   "source": [
    "s1.union(s2)"
   ]
  },
  {
   "cell_type": "code",
   "execution_count": 95,
   "id": "8cdeb299",
   "metadata": {},
   "outputs": [
    {
     "data": {
      "text/plain": [
       "{1, 2, 3, 4, 5, 6, 7, 8, 9, 12, 55}"
      ]
     },
     "execution_count": 95,
     "metadata": {},
     "output_type": "execute_result"
    }
   ],
   "source": [
    "s1.intersection(s2)"
   ]
  },
  {
   "cell_type": "code",
   "execution_count": 98,
   "id": "a6dff70c",
   "metadata": {},
   "outputs": [
    {
     "data": {
      "text/plain": [
       "set()"
      ]
     },
     "execution_count": 98,
     "metadata": {},
     "output_type": "execute_result"
    }
   ],
   "source": [
    "s1.difference(s2)"
   ]
  },
  {
   "cell_type": "code",
   "execution_count": 99,
   "id": "417d1014",
   "metadata": {},
   "outputs": [
    {
     "data": {
      "text/plain": [
       "{44, 46, 53, 56}"
      ]
     },
     "execution_count": 99,
     "metadata": {},
     "output_type": "execute_result"
    }
   ],
   "source": [
    "s2.difference(s1)"
   ]
  },
  {
   "cell_type": "code",
   "execution_count": 100,
   "id": "7d916dc2",
   "metadata": {},
   "outputs": [
    {
     "data": {
      "text/plain": [
       "{44, 46, 53, 56}"
      ]
     },
     "execution_count": 100,
     "metadata": {},
     "output_type": "execute_result"
    }
   ],
   "source": [
    "s1.symmetric_difference(s2)"
   ]
  },
  {
   "cell_type": "code",
   "execution_count": 101,
   "id": "d3d75dac",
   "metadata": {},
   "outputs": [
    {
     "data": {
      "text/plain": [
       "{44, 46, 53, 56}"
      ]
     },
     "execution_count": 101,
     "metadata": {},
     "output_type": "execute_result"
    }
   ],
   "source": [
    "s2.symmetric_difference(s1)"
   ]
  },
  {
   "cell_type": "code",
   "execution_count": 102,
   "id": "20406d79",
   "metadata": {},
   "outputs": [
    {
     "data": {
      "text/plain": [
       "True"
      ]
     },
     "execution_count": 102,
     "metadata": {},
     "output_type": "execute_result"
    }
   ],
   "source": [
    "s1.issubset(s2)"
   ]
  },
  {
   "cell_type": "code",
   "execution_count": 103,
   "id": "9c366921",
   "metadata": {},
   "outputs": [
    {
     "data": {
      "text/plain": [
       "False"
      ]
     },
     "execution_count": 103,
     "metadata": {},
     "output_type": "execute_result"
    }
   ],
   "source": [
    "s1.issuperset(s2)"
   ]
  },
  {
   "cell_type": "markdown",
   "id": "0bf7d221",
   "metadata": {},
   "source": [
    "Dictionary"
   ]
  },
  {
   "cell_type": "code",
   "execution_count": 107,
   "id": "157bb42d",
   "metadata": {},
   "outputs": [],
   "source": [
    "d1={'name':'rohan','name':'aww','age':27,'place':'bhilar','country':'Bharat'}"
   ]
  },
  {
   "cell_type": "code",
   "execution_count": 108,
   "id": "68591387",
   "metadata": {},
   "outputs": [
    {
     "data": {
      "text/plain": [
       "{'name': 'aww', 'age': 27, 'place': 'bhilar', 'country': 'Bharat'}"
      ]
     },
     "execution_count": 108,
     "metadata": {},
     "output_type": "execute_result"
    }
   ],
   "source": [
    "d1"
   ]
  },
  {
   "cell_type": "code",
   "execution_count": 109,
   "id": "fe729cf3",
   "metadata": {},
   "outputs": [
    {
     "data": {
      "text/plain": [
       "dict_keys(['name', 'age', 'place', 'country'])"
      ]
     },
     "execution_count": 109,
     "metadata": {},
     "output_type": "execute_result"
    }
   ],
   "source": [
    "d1.keys()"
   ]
  },
  {
   "cell_type": "code",
   "execution_count": 111,
   "id": "f36ce287",
   "metadata": {},
   "outputs": [
    {
     "data": {
      "text/plain": [
       "dict_values(['aww', 27, 'bhilar', 'Bharat'])"
      ]
     },
     "execution_count": 111,
     "metadata": {},
     "output_type": "execute_result"
    }
   ],
   "source": [
    "d1.values()"
   ]
  },
  {
   "cell_type": "code",
   "execution_count": 112,
   "id": "3756cb54",
   "metadata": {},
   "outputs": [
    {
     "data": {
      "text/plain": [
       "dict_items([('name', 'aww'), ('age', 27), ('place', 'bhilar'), ('country', 'Bharat')])"
      ]
     },
     "execution_count": 112,
     "metadata": {},
     "output_type": "execute_result"
    }
   ],
   "source": [
    "d1.items()"
   ]
  },
  {
   "cell_type": "code",
   "execution_count": 113,
   "id": "8a0bcf55",
   "metadata": {},
   "outputs": [],
   "source": [
    "d1.update({'name':'rohan'})"
   ]
  },
  {
   "cell_type": "code",
   "execution_count": 114,
   "id": "01bb91f2",
   "metadata": {},
   "outputs": [
    {
     "data": {
      "text/plain": [
       "{'name': 'rohan', 'age': 27, 'place': 'bhilar', 'country': 'Bharat'}"
      ]
     },
     "execution_count": 114,
     "metadata": {},
     "output_type": "execute_result"
    }
   ],
   "source": [
    "d1"
   ]
  },
  {
   "cell_type": "code",
   "execution_count": 117,
   "id": "e0c9a0cf",
   "metadata": {},
   "outputs": [
    {
     "data": {
      "text/plain": [
       "'bhilar'"
      ]
     },
     "execution_count": 117,
     "metadata": {},
     "output_type": "execute_result"
    }
   ],
   "source": [
    "d1.pop('place')"
   ]
  },
  {
   "cell_type": "code",
   "execution_count": 118,
   "id": "2bdd9bc9",
   "metadata": {},
   "outputs": [
    {
     "data": {
      "text/plain": [
       "{'name': 'rohan', 'age': 27, 'country': 'Bharat'}"
      ]
     },
     "execution_count": 118,
     "metadata": {},
     "output_type": "execute_result"
    }
   ],
   "source": [
    "d1"
   ]
  },
  {
   "cell_type": "code",
   "execution_count": 119,
   "id": "874f7083",
   "metadata": {},
   "outputs": [],
   "source": [
    "d2=d1.copy()"
   ]
  },
  {
   "cell_type": "code",
   "execution_count": 120,
   "id": "8cb47bf8",
   "metadata": {},
   "outputs": [
    {
     "data": {
      "text/plain": [
       "{'name': 'rohan', 'age': 27, 'country': 'Bharat'}"
      ]
     },
     "execution_count": 120,
     "metadata": {},
     "output_type": "execute_result"
    }
   ],
   "source": [
    "d2"
   ]
  },
  {
   "cell_type": "code",
   "execution_count": 121,
   "id": "486dd39e",
   "metadata": {},
   "outputs": [],
   "source": [
    "d2.clear()"
   ]
  },
  {
   "cell_type": "code",
   "execution_count": 122,
   "id": "83fabe26",
   "metadata": {},
   "outputs": [
    {
     "data": {
      "text/plain": [
       "{}"
      ]
     },
     "execution_count": 122,
     "metadata": {},
     "output_type": "execute_result"
    }
   ],
   "source": [
    "d2"
   ]
  },
  {
   "cell_type": "code",
   "execution_count": 123,
   "id": "2d8e53c5",
   "metadata": {},
   "outputs": [
    {
     "data": {
      "text/plain": [
       "'Bharat'"
      ]
     },
     "execution_count": 123,
     "metadata": {},
     "output_type": "execute_result"
    }
   ],
   "source": [
    "d1.get('country')"
   ]
  },
  {
   "cell_type": "code",
   "execution_count": null,
   "id": "38ce27b1",
   "metadata": {},
   "outputs": [],
   "source": [
    " "
   ]
  }
 ],
 "metadata": {
  "kernelspec": {
   "display_name": ".venv",
   "language": "python",
   "name": "python3"
  },
  "language_info": {
   "codemirror_mode": {
    "name": "ipython",
    "version": 3
   },
   "file_extension": ".py",
   "mimetype": "text/x-python",
   "name": "python",
   "nbconvert_exporter": "python",
   "pygments_lexer": "ipython3",
   "version": "3.12.0"
  }
 },
 "nbformat": 4,
 "nbformat_minor": 5
}
