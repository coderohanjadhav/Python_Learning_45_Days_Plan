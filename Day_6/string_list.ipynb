{
 "cells": [
  {
   "cell_type": "code",
   "execution_count": 8,
   "id": "d5cf2827",
   "metadata": {},
   "outputs": [],
   "source": [
    "name = \"Rohan\""
   ]
  },
  {
   "cell_type": "code",
   "execution_count": 12,
   "id": "da43589a",
   "metadata": {},
   "outputs": [
    {
     "name": "stdout",
     "output_type": "stream",
     "text": [
      "Rohan\n",
      "Roh\n"
     ]
    }
   ],
   "source": [
    "print(name[0:5])\n",
    "print(name[0:3])"
   ]
  },
  {
   "cell_type": "code",
   "execution_count": 10,
   "id": "1164f75c",
   "metadata": {},
   "outputs": [
    {
     "name": "stdout",
     "output_type": "stream",
     "text": [
      "n\n"
     ]
    }
   ],
   "source": [
    "print(name[-1])"
   ]
  },
  {
   "cell_type": "code",
   "execution_count": 23,
   "id": "7144db55",
   "metadata": {},
   "outputs": [
    {
     "name": "stdout",
     "output_type": "stream",
     "text": [
      "Rhn\n"
     ]
    }
   ],
   "source": [
    "print(name[:5:2])"
   ]
  },
  {
   "cell_type": "code",
   "execution_count": 22,
   "id": "0ca42216",
   "metadata": {},
   "outputs": [
    {
     "name": "stdout",
     "output_type": "stream",
     "text": [
      "nahoR\n"
     ]
    }
   ],
   "source": [
    "print(name[::-1])"
   ]
  },
  {
   "cell_type": "code",
   "execution_count": 24,
   "id": "9f46e509",
   "metadata": {},
   "outputs": [
    {
     "name": "stdout",
     "output_type": "stream",
     "text": [
      "Hello World\n"
     ]
    }
   ],
   "source": [
    "s = \" Hello World \"\n",
    "print(s.strip())"
   ]
  },
  {
   "cell_type": "code",
   "execution_count": 25,
   "id": "79a3a0d1",
   "metadata": {},
   "outputs": [
    {
     "name": "stdout",
     "output_type": "stream",
     "text": [
      " hello world \n"
     ]
    }
   ],
   "source": [
    "print(s.lower())"
   ]
  },
  {
   "cell_type": "code",
   "execution_count": 27,
   "id": "0ba9d367",
   "metadata": {},
   "outputs": [
    {
     "name": "stdout",
     "output_type": "stream",
     "text": [
      " HELLO WORLD \n"
     ]
    }
   ],
   "source": [
    "print(s.upper())"
   ]
  },
  {
   "cell_type": "code",
   "execution_count": 29,
   "id": "7a124ba4",
   "metadata": {},
   "outputs": [
    {
     "name": "stdout",
     "output_type": "stream",
     "text": [
      " Hello Wo$ld \n"
     ]
    }
   ],
   "source": [
    "print(s.replace(\"r\",\"$\"))   \n"
   ]
  },
  {
   "cell_type": "code",
   "execution_count": 34,
   "id": "a7f7efa5",
   "metadata": {},
   "outputs": [
    {
     "name": "stdout",
     "output_type": "stream",
     "text": [
      " --H--e--l--l--o-- --W--o--r--l--d-- \n"
     ]
    }
   ],
   "source": [
    "print(\"--\".join(s))"
   ]
  },
  {
   "cell_type": "code",
   "execution_count": 39,
   "id": "267dbe17",
   "metadata": {},
   "outputs": [],
   "source": [
    "x = \"bannana\"\n",
    "e = None"
   ]
  },
  {
   "cell_type": "code",
   "execution_count": 40,
   "id": "dda9abef",
   "metadata": {},
   "outputs": [
    {
     "name": "stdout",
     "output_type": "stream",
     "text": [
      "3\n"
     ]
    }
   ],
   "source": [
    "print(x.count(\"a\"))\n",
    "\n"
   ]
  },
  {
   "cell_type": "code",
   "execution_count": 42,
   "id": "f5ea14bc",
   "metadata": {},
   "outputs": [
    {
     "name": "stdout",
     "output_type": "stream",
     "text": [
      "anannab\n"
     ]
    }
   ],
   "source": [
    "print(x[::-1])"
   ]
  },
  {
   "cell_type": "code",
   "execution_count": 45,
   "id": "041de29a",
   "metadata": {},
   "outputs": [],
   "source": [
    "a=[\"a\",\"b\",\"c\",\"d\"]"
   ]
  },
  {
   "cell_type": "code",
   "execution_count": 47,
   "id": "f7e2cb89",
   "metadata": {},
   "outputs": [],
   "source": [
    "a.insert(1,\"x\")"
   ]
  },
  {
   "cell_type": "code",
   "execution_count": 49,
   "id": "e9e29582",
   "metadata": {},
   "outputs": [
    {
     "name": "stdout",
     "output_type": "stream",
     "text": [
      "['a', 'x', 'b', 'c', 'd']\n"
     ]
    }
   ],
   "source": [
    "print(a)"
   ]
  },
  {
   "cell_type": "code",
   "execution_count": 50,
   "id": "d59cad42",
   "metadata": {},
   "outputs": [],
   "source": [
    "a.remove(\"b\")"
   ]
  },
  {
   "cell_type": "code",
   "execution_count": 1,
   "id": "2aa085c6",
   "metadata": {},
   "outputs": [],
   "source": [
    "a = \"Rohan\""
   ]
  },
  {
   "cell_type": "code",
   "execution_count": 4,
   "id": "0d052aba",
   "metadata": {},
   "outputs": [
    {
     "data": {
      "text/plain": [
       "'Roh0n'"
      ]
     },
     "execution_count": 4,
     "metadata": {},
     "output_type": "execute_result"
    }
   ],
   "source": [
    "a.replace('a','0')"
   ]
  },
  {
   "cell_type": "code",
   "execution_count": 5,
   "id": "bc1c8f74",
   "metadata": {},
   "outputs": [
    {
     "name": "stdout",
     "output_type": "stream",
     "text": [
      "Rohan\n"
     ]
    }
   ],
   "source": [
    "print(a)"
   ]
  },
  {
   "cell_type": "code",
   "execution_count": null,
   "id": "eabbdb13",
   "metadata": {},
   "outputs": [],
   "source": []
  },
  {
   "cell_type": "code",
   "execution_count": 10,
   "id": "f2484c3d",
   "metadata": {},
   "outputs": [
    {
     "data": {
      "text/plain": [
       "'rohan'"
      ]
     },
     "execution_count": 10,
     "metadata": {},
     "output_type": "execute_result"
    }
   ],
   "source": [
    "a.casefold()"
   ]
  },
  {
   "cell_type": "code",
   "execution_count": 12,
   "id": "f496806b",
   "metadata": {},
   "outputs": [
    {
     "data": {
      "text/plain": [
       "'ROHAN'"
      ]
     },
     "execution_count": 12,
     "metadata": {},
     "output_type": "execute_result"
    }
   ],
   "source": [
    "a.upper()"
   ]
  },
  {
   "cell_type": "code",
   "execution_count": 13,
   "id": "3e67ba19",
   "metadata": {},
   "outputs": [
    {
     "data": {
      "text/plain": [
       "'rohan'"
      ]
     },
     "execution_count": 13,
     "metadata": {},
     "output_type": "execute_result"
    }
   ],
   "source": [
    "a.lower()"
   ]
  },
  {
   "cell_type": "code",
   "execution_count": 14,
   "id": "8c87574f",
   "metadata": {},
   "outputs": [
    {
     "data": {
      "text/plain": [
       "'rohan'"
      ]
     },
     "execution_count": 14,
     "metadata": {},
     "output_type": "execute_result"
    }
   ],
   "source": [
    "a.casefold()"
   ]
  },
  {
   "cell_type": "code",
   "execution_count": 15,
   "id": "247cf608",
   "metadata": {},
   "outputs": [
    {
     "data": {
      "text/plain": [
       "'Rohan'"
      ]
     },
     "execution_count": 15,
     "metadata": {},
     "output_type": "execute_result"
    }
   ],
   "source": [
    "a.capitalize()"
   ]
  },
  {
   "cell_type": "code",
   "execution_count": 20,
   "id": "4aa2d1fd",
   "metadata": {},
   "outputs": [
    {
     "data": {
      "text/plain": [
       "'  Rohan   '"
      ]
     },
     "execution_count": 20,
     "metadata": {},
     "output_type": "execute_result"
    }
   ],
   "source": [
    "a.center(10)"
   ]
  },
  {
   "cell_type": "code",
   "execution_count": 26,
   "id": "5627cc4b",
   "metadata": {},
   "outputs": [
    {
     "data": {
      "text/plain": [
       "'***Rohan****'"
      ]
     },
     "execution_count": 26,
     "metadata": {},
     "output_type": "execute_result"
    }
   ],
   "source": [
    "a.center(12,'*')"
   ]
  },
  {
   "cell_type": "code",
   "execution_count": 19,
   "id": "4565eef6",
   "metadata": {},
   "outputs": [
    {
     "data": {
      "text/plain": [
       "True"
      ]
     },
     "execution_count": 19,
     "metadata": {},
     "output_type": "execute_result"
    }
   ],
   "source": [
    "a.endswith(\"n\")"
   ]
  },
  {
   "cell_type": "code",
   "execution_count": 27,
   "id": "4a563806",
   "metadata": {},
   "outputs": [
    {
     "data": {
      "text/plain": [
       "1"
      ]
     },
     "execution_count": 27,
     "metadata": {},
     "output_type": "execute_result"
    }
   ],
   "source": [
    "a.find('o')"
   ]
  },
  {
   "cell_type": "code",
   "execution_count": 28,
   "id": "36483320",
   "metadata": {},
   "outputs": [
    {
     "data": {
      "text/plain": [
       "1"
      ]
     },
     "execution_count": 28,
     "metadata": {},
     "output_type": "execute_result"
    }
   ],
   "source": [
    "a.count('a')"
   ]
  },
  {
   "cell_type": "code",
   "execution_count": 30,
   "id": "5fbb6824",
   "metadata": {},
   "outputs": [
    {
     "data": {
      "text/plain": [
       "['Rohan']"
      ]
     },
     "execution_count": 30,
     "metadata": {},
     "output_type": "execute_result"
    }
   ],
   "source": [
    "a.split()"
   ]
  },
  {
   "cell_type": "code",
   "execution_count": 47,
   "id": "ad5f2880",
   "metadata": {},
   "outputs": [],
   "source": [
    "b=' Rohan is boy   '"
   ]
  },
  {
   "cell_type": "code",
   "execution_count": 41,
   "id": "575fd841",
   "metadata": {},
   "outputs": [],
   "source": [
    "c=b.split()"
   ]
  },
  {
   "cell_type": "code",
   "execution_count": 42,
   "id": "7ed58a2b",
   "metadata": {},
   "outputs": [
    {
     "data": {
      "text/plain": [
       "['Rohan', 'is', 'boy']"
      ]
     },
     "execution_count": 42,
     "metadata": {},
     "output_type": "execute_result"
    }
   ],
   "source": [
    "c"
   ]
  },
  {
   "cell_type": "code",
   "execution_count": 44,
   "id": "2045ef98",
   "metadata": {},
   "outputs": [
    {
     "data": {
      "text/plain": [
       "'Rohan,is,boy'"
      ]
     },
     "execution_count": 44,
     "metadata": {},
     "output_type": "execute_result"
    }
   ],
   "source": [
    "\",\".join(c)"
   ]
  },
  {
   "cell_type": "code",
   "execution_count": 48,
   "id": "538282b3",
   "metadata": {},
   "outputs": [
    {
     "data": {
      "text/plain": [
       "'Rohan is boy'"
      ]
     },
     "execution_count": 48,
     "metadata": {},
     "output_type": "execute_result"
    }
   ],
   "source": [
    "b.strip()"
   ]
  },
  {
   "cell_type": "code",
   "execution_count": 49,
   "id": "fe881240",
   "metadata": {},
   "outputs": [
    {
     "data": {
      "text/plain": [
       "' Rohan is boy   '"
      ]
     },
     "execution_count": 49,
     "metadata": {},
     "output_type": "execute_result"
    }
   ],
   "source": [
    "b"
   ]
  },
  {
   "cell_type": "code",
   "execution_count": 1,
   "id": "9b5aa08c",
   "metadata": {},
   "outputs": [],
   "source": [
    "R = \"rOHAN\""
   ]
  },
  {
   "cell_type": "code",
   "execution_count": 2,
   "id": "6b510391",
   "metadata": {},
   "outputs": [
    {
     "data": {
      "text/plain": [
       "'rHN'"
      ]
     },
     "execution_count": 2,
     "metadata": {},
     "output_type": "execute_result"
    }
   ],
   "source": [
    "R[::2]"
   ]
  },
  {
   "cell_type": "code",
   "execution_count": 3,
   "id": "dd3eacea",
   "metadata": {},
   "outputs": [
    {
     "data": {
      "text/plain": [
       "'NAHOr'"
      ]
     },
     "execution_count": 3,
     "metadata": {},
     "output_type": "execute_result"
    }
   ],
   "source": [
    "R[::-1]"
   ]
  },
  {
   "cell_type": "code",
   "execution_count": 7,
   "id": "cda03490",
   "metadata": {},
   "outputs": [
    {
     "data": {
      "text/plain": [
       "'HAN'"
      ]
     },
     "execution_count": 7,
     "metadata": {},
     "output_type": "execute_result"
    }
   ],
   "source": [
    "R[-3:]"
   ]
  },
  {
   "cell_type": "code",
   "execution_count": 8,
   "id": "a826c86c",
   "metadata": {},
   "outputs": [],
   "source": [
    "l1 = [1,2,3,4,5,6,7,8,9]"
   ]
  },
  {
   "cell_type": "code",
   "execution_count": 10,
   "id": "02ad8e95",
   "metadata": {},
   "outputs": [
    {
     "name": "stdout",
     "output_type": "stream",
     "text": [
      "[1, 2, 3, 4, 5, 6, 7, 8, 9, 10, 10]\n"
     ]
    }
   ],
   "source": [
    "l1.append(10)\n",
    "print(l1)"
   ]
  },
  {
   "cell_type": "code",
   "execution_count": 11,
   "id": "8c310457",
   "metadata": {},
   "outputs": [],
   "source": [
    "l1.insert(1,2)"
   ]
  },
  {
   "cell_type": "code",
   "execution_count": 12,
   "id": "223ae96c",
   "metadata": {},
   "outputs": [
    {
     "name": "stdout",
     "output_type": "stream",
     "text": [
      "[1, 2, 2, 3, 4, 5, 6, 7, 8, 9, 10, 10]\n"
     ]
    }
   ],
   "source": [
    "print(l1)"
   ]
  },
  {
   "cell_type": "code",
   "execution_count": 13,
   "id": "49575845",
   "metadata": {},
   "outputs": [
    {
     "data": {
      "text/plain": [
       "1"
      ]
     },
     "execution_count": 13,
     "metadata": {},
     "output_type": "execute_result"
    }
   ],
   "source": [
    "l1[0]"
   ]
  },
  {
   "cell_type": "code",
   "execution_count": 14,
   "id": "aea61503",
   "metadata": {},
   "outputs": [
    {
     "data": {
      "text/plain": [
       "[10, 10, 9, 8, 7, 6, 5, 4, 3, 2, 2, 1]"
      ]
     },
     "execution_count": 14,
     "metadata": {},
     "output_type": "execute_result"
    }
   ],
   "source": [
    "l1[::-1]"
   ]
  },
  {
   "cell_type": "code",
   "execution_count": 15,
   "id": "ecd181fb",
   "metadata": {},
   "outputs": [
    {
     "data": {
      "text/plain": [
       "[1, 2, 2, 3]"
      ]
     },
     "execution_count": 15,
     "metadata": {},
     "output_type": "execute_result"
    }
   ],
   "source": [
    "l1[0:4]"
   ]
  },
  {
   "cell_type": "code",
   "execution_count": 16,
   "id": "4a388cb8",
   "metadata": {},
   "outputs": [],
   "source": [
    "l1.remove(2)"
   ]
  },
  {
   "cell_type": "code",
   "execution_count": 18,
   "id": "7b4da5da",
   "metadata": {},
   "outputs": [
    {
     "data": {
      "text/plain": [
       "10"
      ]
     },
     "execution_count": 18,
     "metadata": {},
     "output_type": "execute_result"
    }
   ],
   "source": [
    "l1.pop(10)"
   ]
  },
  {
   "cell_type": "code",
   "execution_count": 19,
   "id": "de97d140",
   "metadata": {},
   "outputs": [
    {
     "data": {
      "text/plain": [
       "[1, 2, 3, 4, 5, 6, 7, 8, 9, 10]"
      ]
     },
     "execution_count": 19,
     "metadata": {},
     "output_type": "execute_result"
    }
   ],
   "source": [
    "l1"
   ]
  },
  {
   "cell_type": "code",
   "execution_count": 20,
   "id": "41e01044",
   "metadata": {},
   "outputs": [],
   "source": [
    "l1.reverse()"
   ]
  },
  {
   "cell_type": "code",
   "execution_count": 24,
   "id": "a4d09342",
   "metadata": {},
   "outputs": [
    {
     "data": {
      "text/plain": [
       "[10, 9, 8, 7, 6, 5, 4, 3, 2, 1]"
      ]
     },
     "execution_count": 24,
     "metadata": {},
     "output_type": "execute_result"
    }
   ],
   "source": [
    "l1.index(2)\n",
    "l1"
   ]
  },
  {
   "cell_type": "code",
   "execution_count": 25,
   "id": "9e1683a4",
   "metadata": {},
   "outputs": [
    {
     "data": {
      "text/plain": [
       "[10, 9, 8, 7, 6, 5, 4, 3, 2, 1]"
      ]
     },
     "execution_count": 25,
     "metadata": {},
     "output_type": "execute_result"
    }
   ],
   "source": [
    "l1.copy()"
   ]
  },
  {
   "cell_type": "code",
   "execution_count": 26,
   "id": "0c9d1eb5",
   "metadata": {},
   "outputs": [
    {
     "data": {
      "text/plain": [
       "[10, 9, 8, 7, 6, 5, 4, 3, 2, 1]"
      ]
     },
     "execution_count": 26,
     "metadata": {},
     "output_type": "execute_result"
    }
   ],
   "source": [
    "l1"
   ]
  },
  {
   "cell_type": "code",
   "execution_count": 27,
   "id": "22c9729a",
   "metadata": {},
   "outputs": [],
   "source": [
    "l1.insert(11,10)"
   ]
  },
  {
   "cell_type": "code",
   "execution_count": 28,
   "id": "3e0aed3a",
   "metadata": {},
   "outputs": [
    {
     "data": {
      "text/plain": [
       "[10, 9, 8, 7, 6, 5, 4, 3, 2, 1, 10]"
      ]
     },
     "execution_count": 28,
     "metadata": {},
     "output_type": "execute_result"
    }
   ],
   "source": [
    "l1"
   ]
  },
  {
   "cell_type": "code",
   "execution_count": 30,
   "id": "14947db3",
   "metadata": {},
   "outputs": [
    {
     "data": {
      "text/plain": [
       "2"
      ]
     },
     "execution_count": 30,
     "metadata": {},
     "output_type": "execute_result"
    }
   ],
   "source": [
    "l1.count(10)"
   ]
  },
  {
   "cell_type": "code",
   "execution_count": 31,
   "id": "8ab25227",
   "metadata": {},
   "outputs": [
    {
     "ename": "AttributeError",
     "evalue": "'list' object has no attribute 'add'",
     "output_type": "error",
     "traceback": [
      "\u001b[31m---------------------------------------------------------------------------\u001b[39m",
      "\u001b[31mAttributeError\u001b[39m                            Traceback (most recent call last)",
      "\u001b[36mCell\u001b[39m\u001b[36m \u001b[39m\u001b[32mIn[31]\u001b[39m\u001b[32m, line 1\u001b[39m\n\u001b[32m----> \u001b[39m\u001b[32m1\u001b[39m \u001b[43ml1\u001b[49m\u001b[43m.\u001b[49m\u001b[43madd\u001b[49m(\u001b[32m4\u001b[39m)\n",
      "\u001b[31mAttributeError\u001b[39m: 'list' object has no attribute 'add'"
     ]
    }
   ],
   "source": [
    "l1.add(4)"
   ]
  },
  {
   "cell_type": "code",
   "execution_count": null,
   "id": "e322d837",
   "metadata": {},
   "outputs": [],
   "source": []
  }
 ],
 "metadata": {
  "kernelspec": {
   "display_name": ".venv",
   "language": "python",
   "name": "python3"
  },
  "language_info": {
   "codemirror_mode": {
    "name": "ipython",
    "version": 3
   },
   "file_extension": ".py",
   "mimetype": "text/x-python",
   "name": "python",
   "nbconvert_exporter": "python",
   "pygments_lexer": "ipython3",
   "version": "3.12.0"
  }
 },
 "nbformat": 4,
 "nbformat_minor": 5
}
