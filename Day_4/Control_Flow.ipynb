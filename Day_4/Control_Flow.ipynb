{
 "cells": [
  {
   "cell_type": "code",
   "execution_count": 11,
   "id": "75d2abe2",
   "metadata": {},
   "outputs": [],
   "source": [
    "i = int(input(\"Enter the nuber\"))"
   ]
  },
  {
   "cell_type": "markdown",
   "id": "3288a3dc",
   "metadata": {},
   "source": [
    "1. if-else Practice\n",
    "Q1: Write a program that checks if a number is even or odd."
   ]
  },
  {
   "cell_type": "code",
   "execution_count": null,
   "id": "9e9d595e",
   "metadata": {},
   "outputs": [
    {
     "name": "stdout",
     "output_type": "stream",
     "text": [
      "even number\n"
     ]
    }
   ],
   "source": [
    "if i %2 == 0: #used modulus becuse anything which gets equaly divided is 0 is always odd\n",
    "    print(\"odd number\")\n",
    "else:\n",
    "    print(\"even number\")"
   ]
  },
  {
   "cell_type": "markdown",
   "id": "d1e6e451",
   "metadata": {},
   "source": [
    "Q2: Input a number and print:\n",
    "\n",
    "\"Positive\" if > 0\n",
    "\n",
    "\"Zero\" if == 0\n",
    "\n",
    "\"Negative\" if < 0\n",
    "\n"
   ]
  },
  {
   "cell_type": "code",
   "execution_count": 13,
   "id": "94e807dd",
   "metadata": {},
   "outputs": [
    {
     "name": "stdout",
     "output_type": "stream",
     "text": [
      "negative\n"
     ]
    }
   ],
   "source": [
    "if i > 0:\n",
    "    print(\"Positive\")\n",
    "elif i == 0:\n",
    "    print(\"zero\")\n",
    "else:\n",
    "    print(\"negative\")    "
   ]
  },
  {
   "cell_type": "markdown",
   "id": "718c9381",
   "metadata": {},
   "source": [
    "Q3: Print all numbers from 1 to 5"
   ]
  },
  {
   "cell_type": "code",
   "execution_count": 16,
   "id": "21c4cb76",
   "metadata": {},
   "outputs": [
    {
     "name": "stdout",
     "output_type": "stream",
     "text": [
      "1\n",
      "2\n",
      "3\n",
      "4\n",
      "5\n"
     ]
    }
   ],
   "source": [
    "for i in range(1,6):\n",
    "    print(i)"
   ]
  },
  {
   "cell_type": "markdown",
   "id": "6f28a169",
   "metadata": {},
   "source": [
    "Q4: Print each letter in the word \"Python\"."
   ]
  },
  {
   "cell_type": "code",
   "execution_count": 18,
   "id": "1787382b",
   "metadata": {},
   "outputs": [
    {
     "name": "stdout",
     "output_type": "stream",
     "text": [
      "P\n",
      "y\n",
      "t\n",
      "h\n",
      "o\n",
      "n\n"
     ]
    }
   ],
   "source": [
    "p = \"Python\"\n",
    "\n",
    "for i in p:\n",
    "    print(i)"
   ]
  },
  {
   "cell_type": "markdown",
   "id": "3be7b4ea",
   "metadata": {},
   "source": [
    "Q5: Print numbers from 5 Up and down to 1 using a while loop."
   ]
  },
  {
   "cell_type": "code",
   "execution_count": 40,
   "id": "9a83fe4f",
   "metadata": {},
   "outputs": [
    {
     "name": "stdout",
     "output_type": "stream",
     "text": [
      "1\n",
      "2\n",
      "3\n",
      "4\n",
      "5\n"
     ]
    }
   ],
   "source": [
    "i = 1\n",
    "\n",
    "while i <= 5:\n",
    "    print(i)\n",
    "    i+=1"
   ]
  },
  {
   "cell_type": "code",
   "execution_count": 41,
   "id": "f6677c76",
   "metadata": {},
   "outputs": [
    {
     "name": "stdout",
     "output_type": "stream",
     "text": [
      "5\n",
      "4\n",
      "3\n",
      "2\n",
      "1\n"
     ]
    }
   ],
   "source": [
    "i = 5\n",
    "while i >= 1:\n",
    "    print(i)\n",
    "    i=i-1\n"
   ]
  },
  {
   "cell_type": "markdown",
   "id": "a92c3b20",
   "metadata": {},
   "source": [
    "Q6: Keep asking the user to input a number until they type 0.\n",
    "\n"
   ]
  },
  {
   "cell_type": "code",
   "execution_count": null,
   "id": "192f2b86",
   "metadata": {},
   "outputs": [
    {
     "name": "stdout",
     "output_type": "stream",
     "text": [
      "5\n",
      "6\n",
      "5\n",
      "6\n"
     ]
    }
   ],
   "source": [
    "i = 5\n",
    "while i >= 1: #whenever the condition matches  it goes on .\n",
    "    print(i)\n",
    "    i = int(input(\"Enter the number\"))"
   ]
  },
  {
   "cell_type": "markdown",
   "id": "ccdd1c2f",
   "metadata": {},
   "source": [
    "Q7: Loop from 1 to 10. Stop when you reach 6 using break"
   ]
  },
  {
   "cell_type": "code",
   "execution_count": 69,
   "id": "2a3c0ebd",
   "metadata": {},
   "outputs": [
    {
     "name": "stdout",
     "output_type": "stream",
     "text": [
      "1\n",
      "2\n",
      "3\n",
      "4\n",
      "5\n",
      "6\n"
     ]
    }
   ],
   "source": [
    "for i in range(1,10):\n",
    "    print(i)\n",
    "    if i == 6:\n",
    "        break"
   ]
  },
  {
   "cell_type": "markdown",
   "id": "3e65222d",
   "metadata": {},
   "source": [
    "Q8: Print numbers from 1 to 5 but skip 3 using continue."
   ]
  },
  {
   "cell_type": "code",
   "execution_count": null,
   "id": "3e28be2c",
   "metadata": {},
   "outputs": [
    {
     "name": "stdout",
     "output_type": "stream",
     "text": [
      "1\n",
      "2\n",
      "4\n",
      "5\n"
     ]
    }
   ],
   "source": [
    "for i in range(1,6):\n",
    "    if i == 3:\n",
    "        continue\n",
    "    print(i)"
   ]
  },
  {
   "cell_type": "markdown",
   "id": "76523300",
   "metadata": {},
   "source": [
    "Q9. Count vowels in a string\n",
    "Write a program that counts how many vowels (a, e, i, o, u) are in the string \"Hello World\".\n",
    "\n"
   ]
  },
  {
   "cell_type": "code",
   "execution_count": 82,
   "id": "fa75151f",
   "metadata": {},
   "outputs": [
    {
     "name": "stdout",
     "output_type": "stream",
     "text": [
      "e\n",
      "o\n",
      "o\n",
      "3\n"
     ]
    }
   ],
   "source": [
    "a = ('a', 'e', 'i', 'o', 'u')\n",
    "b = \"Hello World\"\n",
    "count = 0\n",
    "for i in b:\n",
    "    if i in a:\n",
    "        print(i)\n",
    "        count+=1\n",
    "\n",
    "print(count)\n"
   ]
  },
  {
   "cell_type": "markdown",
   "id": "23f721a2",
   "metadata": {},
   "source": [
    "Q10. Find the sum of first 10 natural numbers\n",
    "Use a loop to calculate the sum: 1 + 2 + 3 + ... + 10"
   ]
  },
  {
   "cell_type": "code",
   "execution_count": 76,
   "id": "856de2ad",
   "metadata": {},
   "outputs": [
    {
     "name": "stdout",
     "output_type": "stream",
     "text": [
      "list['o']\n"
     ]
    }
   ],
   "source": [
    "print(count)"
   ]
  },
  {
   "cell_type": "markdown",
   "id": "db98a5f1",
   "metadata": {},
   "source": [
    "Q10. Find the sum of first 10 natural numbers\n",
    "Use a loop to calculate the sum: 1 + 2 + 3 + ... + 10"
   ]
  },
  {
   "cell_type": "code",
   "execution_count": 89,
   "id": "34cad946",
   "metadata": {},
   "outputs": [
    {
     "name": "stdout",
     "output_type": "stream",
     "text": [
      "55\n"
     ]
    }
   ],
   "source": [
    "a = 0\n",
    "for i in range(1,11):\n",
    "    a = a + i\n",
    "print(a)"
   ]
  },
  {
   "cell_type": "markdown",
   "id": "5705c0cf",
   "metadata": {},
   "source": [
    "Q11. Print even numbers between 1 and 20"
   ]
  },
  {
   "cell_type": "code",
   "execution_count": 92,
   "id": "c511cc2a",
   "metadata": {},
   "outputs": [
    {
     "name": "stdout",
     "output_type": "stream",
     "text": [
      "1\n",
      "3\n",
      "5\n",
      "7\n",
      "9\n",
      "11\n",
      "13\n",
      "15\n",
      "17\n",
      "19\n"
     ]
    }
   ],
   "source": [
    "for i in range(1,21):\n",
    "    if i%2!=0:\n",
    "        print(i)"
   ]
  },
  {
   "cell_type": "markdown",
   "id": "bbe9df05",
   "metadata": {},
   "source": [
    "Q12.Password retry loop"
   ]
  },
  {
   "cell_type": "code",
   "execution_count": null,
   "id": "5e7a1773",
   "metadata": {},
   "outputs": [
    {
     "name": "stderr",
     "output_type": "stream",
     "text": [
      "<>:2: SyntaxWarning: \"is not\" with 'str' literal. Did you mean \"!=\"?\n",
      "<>:2: SyntaxWarning: \"is not\" with 'str' literal. Did you mean \"!=\"?\n",
      "<>:2: SyntaxWarning: \"is not\" with 'str' literal. Did you mean \"!=\"?\n",
      "<>:2: SyntaxWarning: \"is not\" with 'str' literal. Did you mean \"!=\"?\n",
      "C:\\Users\\jadha\\AppData\\Local\\Temp\\ipykernel_18772\\2951484085.py:2: SyntaxWarning: \"is not\" with 'str' literal. Did you mean \"!=\"?\n",
      "  while x is not \"admin123\":\n",
      "C:\\Users\\jadha\\AppData\\Local\\Temp\\ipykernel_18772\\2951484085.py:2: SyntaxWarning: \"is not\" with 'str' literal. Did you mean \"!=\"?\n",
      "  while x is not \"admin123\":\n"
     ]
    }
   ],
   "source": [
    "x = \"\"\n",
    "while x is not \"admin123\":\n",
    "    x = input(\"Enter Password\")\n",
    "\n",
    "print(x)"
   ]
  },
  {
   "cell_type": "code",
   "execution_count": null,
   "id": "c520af1a",
   "metadata": {},
   "outputs": [],
   "source": [
    "\n"
   ]
  },
  {
   "cell_type": "code",
   "execution_count": null,
   "id": "37587e2b",
   "metadata": {},
   "outputs": [],
   "source": []
  },
  {
   "cell_type": "code",
   "execution_count": null,
   "id": "19524401",
   "metadata": {},
   "outputs": [],
   "source": []
  },
  {
   "cell_type": "code",
   "execution_count": null,
   "id": "3823354a",
   "metadata": {},
   "outputs": [],
   "source": []
  }
 ],
 "metadata": {
  "kernelspec": {
   "display_name": ".venv",
   "language": "python",
   "name": "python3"
  },
  "language_info": {
   "codemirror_mode": {
    "name": "ipython",
    "version": 3
   },
   "file_extension": ".py",
   "mimetype": "text/x-python",
   "name": "python",
   "nbconvert_exporter": "python",
   "pygments_lexer": "ipython3",
   "version": "3.12.0"
  }
 },
 "nbformat": 4,
 "nbformat_minor": 5
}
