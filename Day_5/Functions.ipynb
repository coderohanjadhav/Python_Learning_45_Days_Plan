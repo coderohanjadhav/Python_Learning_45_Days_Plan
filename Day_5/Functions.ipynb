{
 "cells": [
  {
   "cell_type": "code",
   "execution_count": 1,
   "id": "bd12162e",
   "metadata": {},
   "outputs": [],
   "source": [
    "def greet():\n",
    "    print(\" Hello!RohanJadhav\")"
   ]
  },
  {
   "cell_type": "code",
   "execution_count": 2,
   "id": "058cbbf0",
   "metadata": {},
   "outputs": [
    {
     "name": "stdout",
     "output_type": "stream",
     "text": [
      " Hello!RohanJadhav\n"
     ]
    }
   ],
   "source": [
    "greet()"
   ]
  },
  {
   "cell_type": "code",
   "execution_count": 3,
   "id": "57b1695c",
   "metadata": {},
   "outputs": [],
   "source": [
    "def sum(a,b):\n",
    "    print(a+b)"
   ]
  },
  {
   "cell_type": "code",
   "execution_count": 4,
   "id": "7d955bac",
   "metadata": {},
   "outputs": [
    {
     "name": "stdout",
     "output_type": "stream",
     "text": [
      "10\n"
     ]
    }
   ],
   "source": [
    "sum(5,5)"
   ]
  },
  {
   "cell_type": "code",
   "execution_count": 5,
   "id": "7926128b",
   "metadata": {},
   "outputs": [],
   "source": [
    "def sub(a,b):\n",
    "    return a-b"
   ]
  },
  {
   "cell_type": "code",
   "execution_count": 6,
   "id": "87582cb3",
   "metadata": {},
   "outputs": [
    {
     "name": "stdout",
     "output_type": "stream",
     "text": [
      "5\n"
     ]
    }
   ],
   "source": [
    "z = sub(10,5)\n",
    "print(z)"
   ]
  },
  {
   "cell_type": "code",
   "execution_count": 14,
   "id": "1da3202d",
   "metadata": {},
   "outputs": [
    {
     "name": "stdout",
     "output_type": "stream",
     "text": [
      "20\n"
     ]
    }
   ],
   "source": [
    "c = sum(10,10)"
   ]
  },
  {
   "cell_type": "code",
   "execution_count": 16,
   "id": "01f5c007",
   "metadata": {},
   "outputs": [
    {
     "name": "stdout",
     "output_type": "stream",
     "text": [
      "None\n"
     ]
    }
   ],
   "source": [
    "print(c)"
   ]
  },
  {
   "cell_type": "code",
   "execution_count": 17,
   "id": "146c2947",
   "metadata": {},
   "outputs": [
    {
     "data": {
      "text/plain": [
       "-5"
      ]
     },
     "execution_count": 17,
     "metadata": {},
     "output_type": "execute_result"
    }
   ],
   "source": [
    "sub(15,20)"
   ]
  },
  {
   "cell_type": "code",
   "execution_count": 18,
   "id": "29f93da1",
   "metadata": {},
   "outputs": [
    {
     "data": {
      "text/plain": [
       "5"
      ]
     },
     "execution_count": 18,
     "metadata": {},
     "output_type": "execute_result"
    }
   ],
   "source": [
    "sub(a=20,b=15)"
   ]
  },
  {
   "cell_type": "code",
   "execution_count": 19,
   "id": "706e6eab",
   "metadata": {},
   "outputs": [],
   "source": [
    "def greet2(name=\"Rohan\"):\n",
    "    print(\"hello\",name)"
   ]
  },
  {
   "cell_type": "code",
   "execution_count": 20,
   "id": "065b30ae",
   "metadata": {},
   "outputs": [
    {
     "name": "stdout",
     "output_type": "stream",
     "text": [
      "hello Rohan\n"
     ]
    }
   ],
   "source": [
    "greet2(\"Rohan\")"
   ]
  },
  {
   "cell_type": "code",
   "execution_count": 21,
   "id": "52b4f373",
   "metadata": {},
   "outputs": [
    {
     "name": "stdout",
     "output_type": "stream",
     "text": [
      "hello Aww\n"
     ]
    }
   ],
   "source": [
    "greet2(\"Aww\")"
   ]
  },
  {
   "cell_type": "code",
   "execution_count": 22,
   "id": "c67c3d72",
   "metadata": {},
   "outputs": [
    {
     "name": "stdout",
     "output_type": "stream",
     "text": [
      " Hello!RohanJadhav\n"
     ]
    }
   ],
   "source": [
    "greet()"
   ]
  },
  {
   "cell_type": "code",
   "execution_count": 24,
   "id": "69e27a99",
   "metadata": {},
   "outputs": [
    {
     "name": "stdout",
     "output_type": "stream",
     "text": [
      "hello Rohan\n"
     ]
    }
   ],
   "source": [
    "greet2()"
   ]
  },
  {
   "cell_type": "code",
   "execution_count": 28,
   "id": "8e4002d2",
   "metadata": {},
   "outputs": [],
   "source": [
    "def sub_all(*args):\n",
    "    return sum(args)"
   ]
  },
  {
   "cell_type": "code",
   "execution_count": 30,
   "id": "da350583",
   "metadata": {},
   "outputs": [],
   "source": [
    "def show_info(**kwargs):\n",
    "    for key, value in kwargs.items():\n",
    "        print(key, \"=\", value)"
   ]
  },
  {
   "cell_type": "code",
   "execution_count": 31,
   "id": "8c33a353",
   "metadata": {},
   "outputs": [
    {
     "name": "stdout",
     "output_type": "stream",
     "text": [
      "name = Rohan\n",
      "age = 25\n"
     ]
    }
   ],
   "source": [
    "show_info(name=\"Rohan\", age=25)"
   ]
  },
  {
   "cell_type": "code",
   "execution_count": 32,
   "id": "e48145fe",
   "metadata": {},
   "outputs": [
    {
     "name": "stdout",
     "output_type": "stream",
     "text": [
      "a: 1\n",
      "args: (2, 3)\n",
      "kwargs: {'name': 'Rohan', 'age': 25}\n"
     ]
    }
   ],
   "source": [
    "def demo(a, *args, **kwargs):\n",
    "    print(\"a:\", a)\n",
    "    print(\"args:\", args)\n",
    "    print(\"kwargs:\", kwargs)\n",
    "\n",
    "demo(1, 2, 3, name=\"Rohan\", age=25)"
   ]
  },
  {
   "cell_type": "code",
   "execution_count": 55,
   "id": "721bc4d9",
   "metadata": {},
   "outputs": [],
   "source": [
    "cars=[\"audi\",\"BMW\",\"kIA\"]\n",
    "carsdict={\"audi\":1,\"BMW\":2,\"KIA\":3}"
   ]
  },
  {
   "cell_type": "code",
   "execution_count": 64,
   "id": "c4a9d948",
   "metadata": {},
   "outputs": [],
   "source": [
    "def car(*args,**kwargs):\n",
    "    for item in args:\n",
    "        print(item)\n",
    "    for key,value in kwargs.items():\n",
    "        print(f\"This is {key} this value{value}\")\n"
   ]
  },
  {
   "cell_type": "code",
   "execution_count": 65,
   "id": "08f146e9",
   "metadata": {},
   "outputs": [
    {
     "name": "stdout",
     "output_type": "stream",
     "text": [
      "audi\n",
      "BMW\n",
      "kIA\n",
      "This is audi this value1\n",
      "This is BMW this value2\n",
      "This is KIA this value3\n"
     ]
    }
   ],
   "source": [
    "car(*cars,**carsdict)"
   ]
  },
  {
   "cell_type": "code",
   "execution_count": 80,
   "id": "7326222e",
   "metadata": {},
   "outputs": [],
   "source": [
    "modulus = lambda x: x * x"
   ]
  },
  {
   "cell_type": "code",
   "execution_count": 81,
   "id": "151afd3a",
   "metadata": {},
   "outputs": [
    {
     "name": "stdout",
     "output_type": "stream",
     "text": [
      "100\n"
     ]
    }
   ],
   "source": [
    "print(modulus(x=10))"
   ]
  },
  {
   "cell_type": "code",
   "execution_count": null,
   "id": "f6ee45e2",
   "metadata": {},
   "outputs": [],
   "source": []
  },
  {
   "cell_type": "code",
   "execution_count": 82,
   "id": "cc3a1d66",
   "metadata": {},
   "outputs": [],
   "source": [
    "square = lambda x,a: x ** a"
   ]
  },
  {
   "cell_type": "code",
   "execution_count": null,
   "id": "62d65f8a",
   "metadata": {},
   "outputs": [],
   "source": []
  }
 ],
 "metadata": {
  "kernelspec": {
   "display_name": ".venv",
   "language": "python",
   "name": "python3"
  },
  "language_info": {
   "codemirror_mode": {
    "name": "ipython",
    "version": 3
   },
   "file_extension": ".py",
   "mimetype": "text/x-python",
   "name": "python",
   "nbconvert_exporter": "python",
   "pygments_lexer": "ipython3",
   "version": "3.12.0"
  }
 },
 "nbformat": 4,
 "nbformat_minor": 5
}
