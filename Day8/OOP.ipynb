{
 "cells": [
  {
   "cell_type": "code",
   "execution_count": 1,
   "id": "a25a254d",
   "metadata": {},
   "outputs": [
    {
     "name": "stdout",
     "output_type": "stream",
     "text": [
      "<__main__.Cars object at 0x00000172D448BFE0>\n"
     ]
    }
   ],
   "source": [
    "class Cars:\n",
    "    pass\n",
    "\n",
    "sportscar = Cars()\n",
    "\n",
    "print(sportscar)"
   ]
  },
  {
   "cell_type": "code",
   "execution_count": 4,
   "id": "c413ad3d",
   "metadata": {},
   "outputs": [
    {
     "name": "stdout",
     "output_type": "stream",
     "text": [
      "Safari Tata\n"
     ]
    }
   ],
   "source": [
    "class Cars: #class\n",
    "    def __init__(self,name,brand): #method\n",
    "        self.name = name #attribute\n",
    "        self.brand =brand #attribute\n",
    "#object initialization\n",
    "sportscar = Cars(\"Safari\",\"Tata\")\n",
    "print(sportscar.name,sportscar.brand)"
   ]
  },
  {
   "cell_type": "code",
   "execution_count": null,
   "id": "cf6e4fcb",
   "metadata": {},
   "outputs": [],
   "source": [
    "class Computer:\n",
    "    def __init__(self,cpu,ram):\n",
    "        self.cpu =cpu\n",
    "        self.ram =ram\n",
    "\n",
    "    def config(self):\n",
    "        print(f\"this the specifiactaion processor: {self.cpu} and ram {self.ram}\")\n",
    "\n",
    "    \n"
   ]
  },
  {
   "cell_type": "code",
   "execution_count": 9,
   "id": "e5e057d6",
   "metadata": {},
   "outputs": [
    {
     "name": "stdout",
     "output_type": "stream",
     "text": [
      "this the specifiactaion processor: i5 and ram 16\n"
     ]
    }
   ],
   "source": [
    "computer1 = Computer(\"i5\",16)\n",
    "computer1.config()"
   ]
  },
  {
   "cell_type": "code",
   "execution_count": 11,
   "id": "002f1870",
   "metadata": {},
   "outputs": [],
   "source": [
    "comp2 = Computer('Ryzen',32)"
   ]
  },
  {
   "cell_type": "code",
   "execution_count": 12,
   "id": "c2f9dec3",
   "metadata": {},
   "outputs": [
    {
     "name": "stdout",
     "output_type": "stream",
     "text": [
      "this the specifiactaion processor: Ryzen and ram 32\n"
     ]
    }
   ],
   "source": [
    "comp2.config()"
   ]
  },
  {
   "cell_type": "code",
   "execution_count": 13,
   "id": "a3934796",
   "metadata": {},
   "outputs": [
    {
     "name": "stdout",
     "output_type": "stream",
     "text": [
      "1290146240496\n"
     ]
    }
   ],
   "source": [
    "print(id(comp2))"
   ]
  },
  {
   "cell_type": "code",
   "execution_count": 2,
   "id": "150277f3",
   "metadata": {},
   "outputs": [],
   "source": [
    "class Company:\n",
    "\n",
    "    company_name = 'coforge' #class variable\n",
    "    Domain =' IT'\n",
    "\n",
    "    # ----- Constructor (Default + Parameterized) -----\n",
    "\n",
    "    #------it is a special instance method (because it uses self)-------\n",
    "    def __init__(self,name=\"rohan\",domain=\"IT\"):\n",
    "        self.name = name #instance variable\n",
    "        self.domain = domain #instance variable\n",
    "\n",
    "    \n",
    "    # ----- Instance Method -----\n",
    "    def employe_details(self):\n",
    "        print(f\"this is the employe name : {self.name} and this is domain: {self.domain} Company : {Company.company_name} Company doamin : {Company.Domain}\")\n",
    "\n",
    "    # ----- Class Method -----\n",
    "\n",
    "    @classmethod\n",
    "    def change_domain(cls,new_domain):\n",
    "        cls.Domain =new_domain\n",
    " \n",
    "    # ----- Static Method -----\n",
    "    @staticmethod\n",
    "    def get_is_itdomain(domain):\n",
    "        if domain == 'IT':\n",
    "            print(\"employe is it domain\")\n",
    "        else:\n",
    "            print(\"No It doamin\")"
   ]
  },
  {
   "cell_type": "code",
   "execution_count": 3,
   "id": "2af21841",
   "metadata": {},
   "outputs": [],
   "source": [
    "e1 = Company()\n",
    "Company.change_domain('Banking')"
   ]
  },
  {
   "cell_type": "code",
   "execution_count": 4,
   "id": "11178420",
   "metadata": {},
   "outputs": [
    {
     "name": "stdout",
     "output_type": "stream",
     "text": [
      "this is the employe name : rohan and this is domain: IT Company : coforge Company doamin : Banking\n"
     ]
    }
   ],
   "source": [
    "e1.employe_details()"
   ]
  },
  {
   "cell_type": "code",
   "execution_count": 5,
   "id": "57e3c291",
   "metadata": {},
   "outputs": [],
   "source": [
    "e2 = Company(\"Sachin\",\"Call cenrter\")"
   ]
  },
  {
   "cell_type": "code",
   "execution_count": 6,
   "id": "d723fd79",
   "metadata": {},
   "outputs": [
    {
     "name": "stdout",
     "output_type": "stream",
     "text": [
      "this is the employe name : Sachin and this is domain: Call cenrter Company : coforge Company doamin : Banking\n"
     ]
    }
   ],
   "source": [
    "e2.employe_details()"
   ]
  },
  {
   "cell_type": "code",
   "execution_count": 7,
   "id": "c7aa82cb",
   "metadata": {},
   "outputs": [
    {
     "name": "stdout",
     "output_type": "stream",
     "text": [
      "employe is it domain\n"
     ]
    }
   ],
   "source": [
    "Company.get_is_itdomain(\"IT\")"
   ]
  },
  {
   "cell_type": "code",
   "execution_count": 8,
   "id": "e82e32fb",
   "metadata": {},
   "outputs": [
    {
     "name": "stdout",
     "output_type": "stream",
     "text": [
      "this is the employe name : rohan and this is domain: IT Company : coforge Company doamin : morgage\n"
     ]
    }
   ],
   "source": [
    "\n",
    "e1.change_domain(\"morgage\")\n",
    "e1.employe_details()"
   ]
  },
  {
   "cell_type": "code",
   "execution_count": 9,
   "id": "f220cb50",
   "metadata": {},
   "outputs": [
    {
     "name": "stdout",
     "output_type": "stream",
     "text": [
      "this is the employe name : Amit and this is domain: Finance Company : coforge Company doamin : morgage\n"
     ]
    }
   ],
   "source": [
    "e3 = Company(\"Amit\", \"Finance\")\n",
    "\n",
    "e3.change_domain(\"morgage\")   # class method call\n",
    "e3.employe_details()      "
   ]
  },
  {
   "cell_type": "code",
   "execution_count": null,
   "id": "19c75d9a",
   "metadata": {},
   "outputs": [],
   "source": []
  },
  {
   "cell_type": "code",
   "execution_count": 36,
   "id": "836ecb9c",
   "metadata": {},
   "outputs": [],
   "source": [
    "class Bikes:\n",
    "    bikes_type = 'Off-road'\n",
    "\n",
    "\n",
    "    def __init__(self,name,cc,type='electric'): #specela Insstance method\n",
    "        self.name = name\n",
    "        self.cc = cc\n",
    "        self.type =type\n",
    "\n",
    "    def bikes_details(self): #Instance method\n",
    "        print(f\"the bike name is :{self.name} and it CC is : {self.cc} an dits ttype is :{self.type}and bike is{Bikes.bikes_type} \")\n",
    "\n",
    "\n",
    "    @classmethod\n",
    "\n",
    "    def changebiketype(cls,type): #claas method \n",
    "        cls.bikes_type = type\n",
    "\n",
    "\n",
    "    @staticmethod\n",
    "    def goodmachine(cc):\n",
    "        if cc >= 350:\n",
    "            print('great for off roading')\n",
    "\n",
    "        else:\n",
    "            print('Use for normal off roading')"
   ]
  },
  {
   "cell_type": "code",
   "execution_count": 37,
   "id": "fc014067",
   "metadata": {},
   "outputs": [],
   "source": [
    "\n",
    "B1 = Bikes('Royalenfieldhimalayan',460,'petrol')\n",
    "B1.changebiketype(\"Touring\")"
   ]
  },
  {
   "cell_type": "code",
   "execution_count": 40,
   "id": "5b32b4a3",
   "metadata": {},
   "outputs": [
    {
     "name": "stdout",
     "output_type": "stream",
     "text": [
      "the bike name is :Royalenfieldhimalayan and it CC is : 460 an dits ttype is :petroland bike isoff-road \n"
     ]
    }
   ],
   "source": [
    "B1.bikes_details()"
   ]
  },
  {
   "cell_type": "code",
   "execution_count": 29,
   "id": "e801bf4c",
   "metadata": {},
   "outputs": [
    {
     "name": "stdout",
     "output_type": "stream",
     "text": [
      "great for off roading\n"
     ]
    }
   ],
   "source": [
    "B1.goodmachine(450)"
   ]
  },
  {
   "cell_type": "code",
   "execution_count": 39,
   "id": "2e9f13e1",
   "metadata": {},
   "outputs": [],
   "source": [
    "B1.changebiketype(\"off-road\")"
   ]
  },
  {
   "cell_type": "code",
   "execution_count": 6,
   "id": "30a17844",
   "metadata": {},
   "outputs": [],
   "source": [
    "class Parent:\n",
    "    def __init__(self):\n",
    "        print(\"pARENT CALLED\")\n",
    "\n",
    "class Son(Parent):\n",
    "    def __init__(self):\n",
    "        print(\"son called\")\n",
    "    \n"
   ]
  },
  {
   "cell_type": "code",
   "execution_count": 7,
   "id": "32a13c71",
   "metadata": {},
   "outputs": [
    {
     "name": "stdout",
     "output_type": "stream",
     "text": [
      "son called\n"
     ]
    }
   ],
   "source": [
    "s1=Son()"
   ]
  },
  {
   "cell_type": "code",
   "execution_count": 10,
   "id": "a926f431",
   "metadata": {},
   "outputs": [],
   "source": [
    "class Parent:\n",
    "    def __init__(self):\n",
    "        print(\"pARENT CALLED\")\n",
    "\n",
    "class Son(Parent):\n",
    "    \n",
    "    def __init__(self):\n",
    "        super().__init__()\n",
    "        print(\"son called\")"
   ]
  },
  {
   "cell_type": "code",
   "execution_count": 11,
   "id": "0df63b18",
   "metadata": {},
   "outputs": [
    {
     "name": "stdout",
     "output_type": "stream",
     "text": [
      "pARENT CALLED\n",
      "son called\n"
     ]
    }
   ],
   "source": [
    "s1=Son()"
   ]
  },
  {
   "cell_type": "code",
   "execution_count": 8,
   "id": "2aacae61",
   "metadata": {},
   "outputs": [],
   "source": [
    "class Parent:\n",
    "    def featureA(self):\n",
    "        print(\"I am parent\")\n",
    "\n",
    "class chiled(Parent):\n",
    "    def featureB(self):\n",
    "        print(\"I am child\")"
   ]
  },
  {
   "cell_type": "code",
   "execution_count": 9,
   "id": "0c82756e",
   "metadata": {},
   "outputs": [],
   "source": [
    "A1= chiled()"
   ]
  },
  {
   "cell_type": "code",
   "execution_count": 10,
   "id": "a29ac66f",
   "metadata": {},
   "outputs": [
    {
     "name": "stdout",
     "output_type": "stream",
     "text": [
      "I am parent\n"
     ]
    }
   ],
   "source": [
    "A1.featureA()"
   ]
  },
  {
   "cell_type": "code",
   "execution_count": 11,
   "id": "ab42f5fa",
   "metadata": {},
   "outputs": [
    {
     "name": "stdout",
     "output_type": "stream",
     "text": [
      "I am child\n"
     ]
    }
   ],
   "source": [
    "A1.featureB()"
   ]
  },
  {
   "cell_type": "code",
   "execution_count": 18,
   "id": "c92d864e",
   "metadata": {},
   "outputs": [],
   "source": [
    "class Parent:\n",
    "    def featureA(self):\n",
    "        print(\"I am parent\")\n",
    "\n",
    "class child1(Parent):\n",
    "    def featureB(self):\n",
    "        print(\"I am child1\")\n",
    "\n",
    "class child2(child1):\n",
    "    def featureC(self):\n",
    "        print(\"Iamchild2\")"
   ]
  },
  {
   "cell_type": "code",
   "execution_count": 19,
   "id": "de02276a",
   "metadata": {},
   "outputs": [],
   "source": [
    "A2 =child2()"
   ]
  },
  {
   "cell_type": "code",
   "execution_count": 21,
   "id": "62c3ab0e",
   "metadata": {},
   "outputs": [
    {
     "name": "stdout",
     "output_type": "stream",
     "text": [
      "Iamchild2\n",
      "I am child1\n",
      "I am parent\n"
     ]
    }
   ],
   "source": [
    "A2.featureC()\n",
    "A2.featureB()\n",
    "A2.featureA()"
   ]
  },
  {
   "cell_type": "code",
   "execution_count": 22,
   "id": "de4dd0fb",
   "metadata": {},
   "outputs": [],
   "source": [
    "class Parent:\n",
    "    def featureA(self):\n",
    "        print(\"I am parent\")\n",
    "\n",
    "class child1:\n",
    "    def featureB(self):\n",
    "        print(\"I am child1\")\n",
    "\n",
    "class child2(Parent,child1):\n",
    "    def featureC(self):\n",
    "        print(\"Iamchild2\")"
   ]
  },
  {
   "cell_type": "code",
   "execution_count": 23,
   "id": "f321c757",
   "metadata": {},
   "outputs": [],
   "source": [
    "A3=child2()"
   ]
  },
  {
   "cell_type": "code",
   "execution_count": 26,
   "id": "59ae2b09",
   "metadata": {},
   "outputs": [
    {
     "name": "stdout",
     "output_type": "stream",
     "text": [
      "Iamchild2\n"
     ]
    }
   ],
   "source": [
    "A3.featureC()"
   ]
  },
  {
   "cell_type": "code",
   "execution_count": 27,
   "id": "88389897",
   "metadata": {},
   "outputs": [],
   "source": [
    "class Father:\n",
    "    def skills1(self): \n",
    "        print(\"Father: Gardening\")\n",
    "\n",
    "class Mother:\n",
    "    def skills2(self): \n",
    "        print(\"Mother: Cooking\")\n",
    "\n",
    "class Child(Father, Mother):\n",
    "    def skills(self):\n",
    "     \n",
    "        print(\"Child: Coding\")\n",
    "\n"
   ]
  },
  {
   "cell_type": "code",
   "execution_count": null,
   "id": "2c403f7f",
   "metadata": {},
   "outputs": [
    {
     "name": "stdout",
     "output_type": "stream",
     "text": [
      "Child: Coding\n",
      "Father: Gardening\n",
      "Mother: Cooking\n"
     ]
    }
   ],
   "source": [
    "c = Child()\n",
    "c.skills()\n",
    "c.skills1()\n",
    "c.skills2()"
   ]
  },
  {
   "cell_type": "code",
   "execution_count": 36,
   "id": "c9870357",
   "metadata": {},
   "outputs": [
    {
     "name": "stdout",
     "output_type": "stream",
     "text": [
      "Father: Gardening\n",
      "Mother: Cooking\n",
      "Child: Coding\n"
     ]
    }
   ],
   "source": [
    "class Father:\n",
    "    def skills(self): \n",
    "        print(\"Father: Gardening\")\n",
    "\n",
    "class Mother:\n",
    "    def skills(self): \n",
    "        print(\"Mother: Cooking\")\n",
    "\n",
    "class Child(Father,Mother):\n",
    "    def skills(self):\n",
    "        super().skills()\n",
    "        Mother.skills(self)\n",
    "        print(\"Child: Coding\")   # Order matters!\n",
    "    \n",
    "\n",
    "c = Child()\n",
    "c.skills()"
   ]
  },
  {
   "cell_type": "code",
   "execution_count": 37,
   "id": "16d94223",
   "metadata": {},
   "outputs": [
    {
     "name": "stdout",
     "output_type": "stream",
     "text": [
      "Feature A\n",
      "Feature B\n",
      "Feature C\n",
      "Feature D\n"
     ]
    }
   ],
   "source": [
    "class A:\n",
    "    def featureA(self):\n",
    "        print(\"Feature A\")\n",
    "\n",
    "class B(A):\n",
    "    def featureB(self):\n",
    "        print(\"Feature B\")\n",
    "\n",
    "class C(A):\n",
    "    def featureC(self):\n",
    "        print(\"Feature C\")\n",
    "\n",
    "class D(B, C):   # Hybrid (Multiple + Hierarchical)\n",
    "    def featureD(self):\n",
    "        print(\"Feature D\")\n",
    "\n",
    "d = D()\n",
    "d.featureA()\n",
    "d.featureB()\n",
    "d.featureC()\n",
    "d.featureD()"
   ]
  },
  {
   "cell_type": "code",
   "execution_count": 38,
   "id": "626702c6",
   "metadata": {},
   "outputs": [
    {
     "name": "stdout",
     "output_type": "stream",
     "text": [
      "This is common feature for all children\n",
      "This is common feature for all children\n"
     ]
    }
   ],
   "source": [
    "class Parent:\n",
    "    def common_feature(self):\n",
    "        print(\"This is common feature for all children\")\n",
    "\n",
    "class Child1(Parent):\n",
    "    pass\n",
    "\n",
    "class Child2(Parent):\n",
    "    pass\n",
    "\n",
    "c1 = Child1()\n",
    "c2 = Child2()\n",
    "c1.common_feature()\n",
    "c2.common_feature()"
   ]
  },
  {
   "cell_type": "code",
   "execution_count": 46,
   "id": "e44cf5ac",
   "metadata": {},
   "outputs": [],
   "source": [
    "class Duck:\n",
    "    def sound(self):\n",
    "        print(111)\n",
    "\n",
    "class Duck2:\n",
    "    def sound(self):\n",
    "        print(\"quack_quuack\")\n",
    "\n",
    "\n",
    "def sound_check(animal):\n",
    "    animal.sound()"
   ]
  },
  {
   "cell_type": "code",
   "execution_count": 48,
   "id": "a474e17b",
   "metadata": {},
   "outputs": [
    {
     "name": "stdout",
     "output_type": "stream",
     "text": [
      "quack_quuack\n"
     ]
    }
   ],
   "source": [
    "sound_check(Duck2())"
   ]
  },
  {
   "cell_type": "code",
   "execution_count": 53,
   "id": "089adc03",
   "metadata": {},
   "outputs": [
    {
     "name": "stdout",
     "output_type": "stream",
     "text": [
      "(6, 8)\n"
     ]
    }
   ],
   "source": [
    "\n",
    "class Vector:\n",
    "    def __init__(self, x, y):\n",
    "        self.x = x\n",
    "        self.y = y\n",
    "\n",
    "    def __mul__(self, other):   # Overload *\n",
    "        return Vector(self.x * other.x, self.y * other.y)\n",
    "    \n",
    "    def __add__(self, other):\n",
    "        return Vector(self.x + other.x, self.y + other.y)\n",
    "\n",
    "\n",
    "    def __str__(self):\n",
    "        return f\"({self.x}, {self.y})\"\n",
    "\n",
    "\n",
    "v1 = Vector(2, 3)\n",
    "v2 = Vector(4, 5)\n",
    "\n",
    "print(v1 + v2)   # (8, 15)\n",
    "\n"
   ]
  },
  {
   "cell_type": "code",
   "execution_count": 8,
   "id": "2e485877",
   "metadata": {},
   "outputs": [],
   "source": [
    "class Area:\n",
    "    def get_area(self,a=None , b=None):\n",
    "        self.a = a\n",
    "        self.b = b\n",
    "        if self.a != None and self.b != None:\n",
    "            print(a*b)\n",
    "        elif self.a != None:\n",
    "            print(a)\n",
    "        else:\n",
    "            print(\"Nothing\")"
   ]
  },
  {
   "cell_type": "code",
   "execution_count": 9,
   "id": "4feddcae",
   "metadata": {},
   "outputs": [],
   "source": [
    "b1 = Area()"
   ]
  },
  {
   "cell_type": "code",
   "execution_count": 10,
   "id": "01ee1b11",
   "metadata": {},
   "outputs": [
    {
     "name": "stdout",
     "output_type": "stream",
     "text": [
      "Nothing\n"
     ]
    }
   ],
   "source": [
    "b1.get_area()"
   ]
  },
  {
   "cell_type": "code",
   "execution_count": null,
   "id": "e24ea761",
   "metadata": {},
   "outputs": [
    {
     "name": "stdout",
     "output_type": "stream",
     "text": [
      "2\n"
     ]
    }
   ],
   "source": [
    "b1.get_area(2) \n",
    "\n"
   ]
  },
  {
   "cell_type": "code",
   "execution_count": 12,
   "id": "d3ba359c",
   "metadata": {},
   "outputs": [
    {
     "name": "stdout",
     "output_type": "stream",
     "text": [
      "8\n"
     ]
    }
   ],
   "source": [
    "b1.get_area(2,4)"
   ]
  },
  {
   "cell_type": "code",
   "execution_count": 8,
   "id": "97a6cfcf",
   "metadata": {},
   "outputs": [],
   "source": [
    "class Maths:\n",
    "    def __init__(self,a,b):\n",
    "        self.a = a \n",
    "        self.b = b \n",
    "    def __add__(self,other):\n",
    "        return (self.a + other.a, self.b + other.b)\n",
    "    def __sub__(self,other):\n",
    "        return (self.a - other.a, self.b - other.b)"
   ]
  },
  {
   "cell_type": "code",
   "execution_count": 9,
   "id": "784dff89",
   "metadata": {},
   "outputs": [],
   "source": [
    "a1 =Maths(2,5)"
   ]
  },
  {
   "cell_type": "code",
   "execution_count": 10,
   "id": "2e15cd19",
   "metadata": {},
   "outputs": [],
   "source": [
    "B1=Maths(3,5)"
   ]
  },
  {
   "cell_type": "code",
   "execution_count": 11,
   "id": "7cd2c3ee",
   "metadata": {},
   "outputs": [
    {
     "name": "stdout",
     "output_type": "stream",
     "text": [
      "(5, 10)\n"
     ]
    }
   ],
   "source": [
    "print(a1+B1)"
   ]
  },
  {
   "cell_type": "code",
   "execution_count": 12,
   "id": "0a418a29",
   "metadata": {},
   "outputs": [
    {
     "name": "stdout",
     "output_type": "stream",
     "text": [
      "(5, 10)\n"
     ]
    }
   ],
   "source": [
    "print(a1+B1)"
   ]
  },
  {
   "cell_type": "code",
   "execution_count": 13,
   "id": "5c694465",
   "metadata": {},
   "outputs": [
    {
     "name": "stdout",
     "output_type": "stream",
     "text": [
      "(-1, 0)\n"
     ]
    }
   ],
   "source": [
    "print(a1-B1)"
   ]
  },
  {
   "cell_type": "code",
   "execution_count": 14,
   "id": "d8b3d655",
   "metadata": {},
   "outputs": [
    {
     "name": "stdout",
     "output_type": "stream",
     "text": [
      "5\n",
      "15\n",
      "30\n"
     ]
    }
   ],
   "source": [
    "class Calculator:\n",
    "    def add(self,*args):\n",
    "        return sum(args)\n",
    "\n",
    "\n",
    "calc = Calculator()\n",
    "print(calc.add(5))          # 5   (only one argument)\n",
    "print(calc.add(5, 10))      # 15  (two arguments)\n",
    "print(calc.add(5, 10, 15))"
   ]
  },
  {
   "cell_type": "code",
   "execution_count": 12,
   "id": "699bb7e0",
   "metadata": {},
   "outputs": [],
   "source": [
    "from abc import ABC, abstractmethod\n",
    "\n",
    "\n",
    "class Vehicle(ABC):\n",
    "    def Type(self):\n",
    "        print(\"4wheeler\")\n",
    "    @abstractmethod\n",
    "    def speed(self):\n",
    "        pass\n",
    "\n",
    "class Car(Vehicle):\n",
    "    def car_Type(self):\n",
    "        print(\"SUV\")\n",
    "\n",
    "    def speed(self):\n",
    "        print(\"100kmph\")\n",
    "        "
   ]
  },
  {
   "cell_type": "code",
   "execution_count": 13,
   "id": "196ed771",
   "metadata": {},
   "outputs": [],
   "source": [
    "c1 = Car()"
   ]
  },
  {
   "cell_type": "code",
   "execution_count": 14,
   "id": "ab4b1b57",
   "metadata": {},
   "outputs": [
    {
     "name": "stdout",
     "output_type": "stream",
     "text": [
      "SUV\n"
     ]
    }
   ],
   "source": [
    "c1.car_Type()"
   ]
  },
  {
   "cell_type": "code",
   "execution_count": 15,
   "id": "ee69234b",
   "metadata": {},
   "outputs": [
    {
     "name": "stdout",
     "output_type": "stream",
     "text": [
      "100kmph\n"
     ]
    }
   ],
   "source": [
    "c1.speed()"
   ]
  },
  {
   "cell_type": "code",
   "execution_count": null,
   "id": "93818852",
   "metadata": {},
   "outputs": [],
   "source": [
    "             "
   ]
  }
 ],
 "metadata": {
  "kernelspec": {
   "display_name": ".venv",
   "language": "python",
   "name": "python3"
  },
  "language_info": {
   "codemirror_mode": {
    "name": "ipython",
    "version": 3
   },
   "file_extension": ".py",
   "mimetype": "text/x-python",
   "name": "python",
   "nbconvert_exporter": "python",
   "pygments_lexer": "ipython3",
   "version": "3.12.0"
  }
 },
 "nbformat": 4,
 "nbformat_minor": 5
}
